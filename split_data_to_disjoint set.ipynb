{
 "cells": [
  {
   "cell_type": "code",
   "execution_count": 1,
   "metadata": {},
   "outputs": [],
   "source": [
    "import numpy as np\n",
    "import pandas as pd\n",
    "import matplotlib.pyplot as plt\n",
    "import seaborn as sns\n",
    "import os\n",
    "import sys \n",
    "import time\n",
    "import random\n",
    "from tqdm import tqdm\n",
    "import time\n",
    "from numpy.linalg import inv\n",
    "import warnings\n",
    "warnings.filterwarnings('ignore')\n",
    "from sklearn.model_selection import KFold\n",
    "from sklearn.ensemble import RandomForestRegressor\n",
    "from sklearn.neural_network import MLPRegressor\n",
    "from sklearn.externals.joblib import dump\n",
    "from sklearn import model_selection \n",
    "from sklearn.model_selection import GridSearchCV, cross_val_score,StratifiedKFold, learning_curve\n",
    "from sklearn.model_selection import train_test_split\n",
    "from sklearn.utils import shuffle\n",
    "from sklearn.model_selection import validation_curve,ShuffleSplit\n",
    "from sklearn.preprocessing import scale\n",
    "from sklearn.ensemble import RandomForestRegressor,  RandomForestClassifier\n",
    "from sklearn.base import BaseEstimator, TransformerMixin, RegressorMixin, clone\n",
    "from sklearn.model_selection import KFold, cross_val_score, train_test_split\n",
    "from sklearn.metrics import mean_squared_error\n",
    "from scipy.stats import norm\n",
    "from sklearn.gaussian_process import GaussianProcessRegressor\n",
    "from sklearn.gaussian_process.kernels import ConstantKernel, Matern\n",
    "from sklearn.tree import DecisionTreeClassifier, DecisionTreeRegressor\n",
    "from sklearn.calibration import calibration_curve\n",
    "from sklearn.preprocessing import StandardScaler\n",
    "from sklearn.utils import shuffle\n",
    "from utils import *\n",
    "\n",
    "\n",
    "pd.set_option('display.max_columns', None)\n",
    "pd.set_option('display.max_rows', None)\n"
   ]
  },
  {
   "cell_type": "markdown",
   "metadata": {},
   "source": [
    "# Load data"
   ]
  },
  {
   "cell_type": "code",
   "execution_count": 2,
   "metadata": {},
   "outputs": [],
   "source": [
    "df = pd.read_excel('5760_simple_discriptors-SMILES.xlsx')\n",
    "data = df.drop([ 'Reaction_No', 'SMILES', 'Catalyst_1_Short_Hand','SMILES_R1','SMILES_R2','SMILES','SMILES_LI','SMILES_BASE','SMILES_SOLV'], axis=1 )\n",
    "data_used = data.dropna(axis=0 , how='any')\n",
    "\n",
    "# dropping missed values\n",
    "data_used = data_used.reset_index().drop('index', axis=1).copy()\n",
    "\n",
    "# Normalization of continuous variables \n",
    "data_used['Product_Yield_PCT_Area_UV'] = data_used['Product_Yield_PCT_Area_UV']/100\n",
    "\n",
    "xls = pd.ExcelFile('Descriptors for Computational Modelling.xlsx')\n",
    "df_Bases = pd.read_excel(xls, 'Base_Short_Hand')\n",
    "df_Solvents = pd.read_excel(xls, 'Solvent_1_Short_Hand')\n",
    "df_Ligands = pd.read_excel(xls, 'Ligand_Short_Hand')\n",
    "\n",
    "# one hot encoding\n",
    "data_ohe = data_cleaning(data_used)\n",
    "Y_ohe = data_ohe[\"Product_Yield_PCT_Area_UV\"]\n",
    "data_ohe = data_ohe.drop('Product_Yield_PCT_Area_UV', axis=1)\n",
    "X_ohe = pd.get_dummies(data_ohe)\n",
    "\n",
    "# discreptors\n",
    "df_descr = data_discreptors(data_used,xls,df_Ligands,df_Bases,df_Solvents)\n",
    "Y_just_descri = df_descr[\"Product_Yield_PCT_Area_UV\"]\n",
    "df = df_descr.drop(['Product_Yield_PCT_Area_UV',\"Ligand_Short_Hand\",\"Base_Short_Hand\",\"Solvent_1_Short_Hand\"], axis=1)\n",
    "X_just_descri = pd.get_dummies(df)\n",
    "df_descr = X_just_descri.copy()\n",
    "df_descr[\"Product_Yield_PCT_Area_UV\"] = Y_just_descri.copy()"
   ]
  },
  {
   "cell_type": "code",
   "execution_count": 7,
   "metadata": {},
   "outputs": [
    {
     "data": {
      "text/html": [
       "<div>\n",
       "<style scoped>\n",
       "    .dataframe tbody tr th:only-of-type {\n",
       "        vertical-align: middle;\n",
       "    }\n",
       "\n",
       "    .dataframe tbody tr th {\n",
       "        vertical-align: top;\n",
       "    }\n",
       "\n",
       "    .dataframe thead th {\n",
       "        text-align: right;\n",
       "    }\n",
       "</style>\n",
       "<table border=\"1\" class=\"dataframe\">\n",
       "  <thead>\n",
       "    <tr style=\"text-align: right;\">\n",
       "      <th></th>\n",
       "      <th>Reactant_1_Name</th>\n",
       "      <th>Reactant_2_Name</th>\n",
       "      <th>Ligand_Short_Hand</th>\n",
       "      <th>Base_Short_Hand</th>\n",
       "      <th>Solvent_1_Short_Hand</th>\n",
       "      <th>Product_Yield_PCT_Area_UV</th>\n",
       "    </tr>\n",
       "  </thead>\n",
       "  <tbody>\n",
       "    <tr>\n",
       "      <td>0</td>\n",
       "      <td>6-chloroquinoline</td>\n",
       "      <td>2a, Boronic Acid</td>\n",
       "      <td>P(tBu)3</td>\n",
       "      <td>NaOH</td>\n",
       "      <td>MeCN</td>\n",
       "      <td>0.047641</td>\n",
       "    </tr>\n",
       "    <tr>\n",
       "      <td>1</td>\n",
       "      <td>6-chloroquinoline</td>\n",
       "      <td>2a, Boronic Acid</td>\n",
       "      <td>P(Ph)3</td>\n",
       "      <td>NaOH</td>\n",
       "      <td>MeCN</td>\n",
       "      <td>0.041210</td>\n",
       "    </tr>\n",
       "    <tr>\n",
       "      <td>2</td>\n",
       "      <td>6-chloroquinoline</td>\n",
       "      <td>2a, Boronic Acid</td>\n",
       "      <td>AmPhos</td>\n",
       "      <td>NaOH</td>\n",
       "      <td>MeCN</td>\n",
       "      <td>0.025838</td>\n",
       "    </tr>\n",
       "    <tr>\n",
       "      <td>3</td>\n",
       "      <td>6-chloroquinoline</td>\n",
       "      <td>2a, Boronic Acid</td>\n",
       "      <td>P(Cy)3</td>\n",
       "      <td>NaOH</td>\n",
       "      <td>MeCN</td>\n",
       "      <td>0.044432</td>\n",
       "    </tr>\n",
       "    <tr>\n",
       "      <td>4</td>\n",
       "      <td>6-chloroquinoline</td>\n",
       "      <td>2a, Boronic Acid</td>\n",
       "      <td>P(o-Tol)3</td>\n",
       "      <td>NaOH</td>\n",
       "      <td>MeCN</td>\n",
       "      <td>0.019499</td>\n",
       "    </tr>\n",
       "  </tbody>\n",
       "</table>\n",
       "</div>"
      ],
      "text/plain": [
       "     Reactant_1_Name   Reactant_2_Name Ligand_Short_Hand Base_Short_Hand  \\\n",
       "0  6-chloroquinoline  2a, Boronic Acid           P(tBu)3            NaOH   \n",
       "1  6-chloroquinoline  2a, Boronic Acid            P(Ph)3            NaOH   \n",
       "2  6-chloroquinoline  2a, Boronic Acid            AmPhos            NaOH   \n",
       "3  6-chloroquinoline  2a, Boronic Acid            P(Cy)3            NaOH   \n",
       "4  6-chloroquinoline  2a, Boronic Acid         P(o-Tol)3            NaOH   \n",
       "\n",
       "  Solvent_1_Short_Hand  Product_Yield_PCT_Area_UV  \n",
       "0                 MeCN                   0.047641  \n",
       "1                 MeCN                   0.041210  \n",
       "2                 MeCN                   0.025838  \n",
       "3                 MeCN                   0.044432  \n",
       "4                 MeCN                   0.019499  "
      ]
     },
     "execution_count": 7,
     "metadata": {},
     "output_type": "execute_result"
    }
   ],
   "source": [
    "data_used.head()"
   ]
  },
  {
   "cell_type": "code",
   "execution_count": 8,
   "metadata": {},
   "outputs": [
    {
     "name": "stdout",
     "output_type": "stream",
     "text": [
      "['6-chloroquinoline' '6-Bromoquinoline' '6-triflatequinoline'\n",
      " '6-Iodoquinoline' '6-quinoline-boronic acid hydrochloride'\n",
      " 'Potassium quinoline-6-trifluoroborate'\n",
      " '6-Quinolineboronic acid pinacol ester']\n"
     ]
    }
   ],
   "source": [
    "print(data_used[\"Reactant_1_Name\"].unique())"
   ]
  },
  {
   "cell_type": "code",
   "execution_count": 9,
   "metadata": {},
   "outputs": [
    {
     "name": "stdout",
     "output_type": "stream",
     "text": [
      "['2a, Boronic Acid' '2b, Boronic Ester' '2c, Trifluoroborate'\n",
      " '2d, Bromide']\n"
     ]
    }
   ],
   "source": [
    "print(data_used[\"Reactant_2_Name\"].unique())"
   ]
  },
  {
   "cell_type": "code",
   "execution_count": 10,
   "metadata": {},
   "outputs": [
    {
     "name": "stdout",
     "output_type": "stream",
     "text": [
      "['P(tBu)3' 'P(Ph)3' 'AmPhos' 'P(Cy)3' 'P(o-Tol)3' 'CataCXium A' 'SPhos'\n",
      " 'dtbpf' 'XPhos' 'dppf' 'Xantphos' 'None' 'P(Ph)3 ']\n"
     ]
    }
   ],
   "source": [
    "print(data_used[\"Ligand_Short_Hand\"].unique())"
   ]
  },
  {
   "cell_type": "code",
   "execution_count": 11,
   "metadata": {},
   "outputs": [
    {
     "name": "stdout",
     "output_type": "stream",
     "text": [
      "['NaOH' 'NaHCO3' 'CsF' 'K3PO4' 'KOH' 'LiOtBu' 'Et3N' 'None']\n"
     ]
    }
   ],
   "source": [
    "print(data_used[\"Base_Short_Hand\"].unique())"
   ]
  },
  {
   "cell_type": "code",
   "execution_count": 12,
   "metadata": {},
   "outputs": [
    {
     "name": "stdout",
     "output_type": "stream",
     "text": [
      "['MeCN' 'THF' 'DMF' 'MeOH' 'MeOH/H2O_V2 9:1' 'THF_V2']\n"
     ]
    }
   ],
   "source": [
    "print(data_used[\"Solvent_1_Short_Hand\"].unique())"
   ]
  },
  {
   "cell_type": "code",
   "execution_count": 36,
   "metadata": {},
   "outputs": [
    {
     "ename": "TypeError",
     "evalue": "bad operand type for unary ~: 'RangeIndex'",
     "output_type": "error",
     "traceback": [
      "\u001b[0;31m---------------------------------------------------------------------------\u001b[0m",
      "\u001b[0;31mTypeError\u001b[0m                                 Traceback (most recent call last)",
      "\u001b[0;32m<ipython-input-36-b4c1e105ca55>\u001b[0m in \u001b[0;36m<module>\u001b[0;34m\u001b[0m\n\u001b[0;32m----> 1\u001b[0;31m \u001b[0mdf2\u001b[0m \u001b[0;34m=\u001b[0m \u001b[0mdata_used\u001b[0m\u001b[0;34m.\u001b[0m\u001b[0msample\u001b[0m\u001b[0;34m(\u001b[0m\u001b[0mfrac\u001b[0m\u001b[0;34m=\u001b[0m\u001b[0;36m1\u001b[0m\u001b[0;34m)\u001b[0m\u001b[0;34m.\u001b[0m\u001b[0miloc\u001b[0m\u001b[0;34m[\u001b[0m\u001b[0mdata_used\u001b[0m\u001b[0;34m.\u001b[0m\u001b[0mloc\u001b[0m\u001b[0;34m[\u001b[0m \u001b[0;34m~\u001b[0m\u001b[0mdata_used\u001b[0m\u001b[0;34m.\u001b[0m\u001b[0mLigand_Short_Hand\u001b[0m\u001b[0;34m.\u001b[0m\u001b[0misin\u001b[0m\u001b[0;34m(\u001b[0m\u001b[0;34m[\u001b[0m\u001b[0;34m'P(tBu)3'\u001b[0m\u001b[0;34m,\u001b[0m\u001b[0;34m\"P(Ph)3\"\u001b[0m\u001b[0;34m,\u001b[0m\u001b[0;34m\"AmPhos\"\u001b[0m\u001b[0;34m,\u001b[0m\u001b[0;34m\"P(Cy)3\"\u001b[0m\u001b[0;34m,\u001b[0m\u001b[0;34m'P(o-Tol)3'\u001b[0m\u001b[0;34m,\u001b[0m\u001b[0;34m'CataCXium A'\u001b[0m\u001b[0;34m]\u001b[0m\u001b[0;34m)\u001b[0m\u001b[0;34m.\u001b[0m\u001b[0mindex\u001b[0m\u001b[0;34m]\u001b[0m \u001b[0;34m]\u001b[0m\u001b[0;34m\u001b[0m\u001b[0;34m\u001b[0m\u001b[0m\n\u001b[0m",
      "\u001b[0;31mTypeError\u001b[0m: bad operand type for unary ~: 'RangeIndex'"
     ]
    }
   ],
   "source": [
    "df2 = data_used.sample(frac=1).loc[] ]"
   ]
  },
  {
   "cell_type": "code",
   "execution_count": 52,
   "metadata": {},
   "outputs": [],
   "source": [
    "#data_used.loc[ ~data_used.Ligand_Short_Hand.isin(['P(tBu)3',\"P(Ph)3\",\"AmPhos\",\"P(Cy)3\",'P(o-Tol)3','CataCXium A'])]"
   ]
  },
  {
   "cell_type": "code",
   "execution_count": 33,
   "metadata": {},
   "outputs": [
    {
     "ename": "TypeError",
     "evalue": "bad operand type for unary ~: 'RangeIndex'",
     "output_type": "error",
     "traceback": [
      "\u001b[0;31m---------------------------------------------------------------------------\u001b[0m",
      "\u001b[0;31mTypeError\u001b[0m                                 Traceback (most recent call last)",
      "\u001b[0;32m<ipython-input-33-a37625ed13a9>\u001b[0m in \u001b[0;36m<module>\u001b[0;34m\u001b[0m\n\u001b[1;32m     10\u001b[0m                                    \u001b[0mdata_used\u001b[0m\u001b[0;34m.\u001b[0m\u001b[0mloc\u001b[0m\u001b[0;34m[\u001b[0m \u001b[0;34m~\u001b[0m\u001b[0mdata_used\u001b[0m\u001b[0;34m.\u001b[0m\u001b[0mBase_Short_Hand\u001b[0m\u001b[0;34m.\u001b[0m\u001b[0misin\u001b[0m\u001b[0;34m(\u001b[0m\u001b[0;34m[\u001b[0m\u001b[0;34m'NaOH'\u001b[0m\u001b[0;34m,\u001b[0m\u001b[0;34m\"NaHCO3\"\u001b[0m\u001b[0;34m,\u001b[0m\u001b[0;34m'CsF'\u001b[0m\u001b[0;34m,\u001b[0m\u001b[0;34m'K3PO4'\u001b[0m\u001b[0;34m]\u001b[0m\u001b[0;34m)\u001b[0m\u001b[0;34m.\u001b[0m\u001b[0mindex\u001b[0m\u001b[0;34m]\u001b[0m \u001b[0;34m&\u001b[0m\u001b[0;34m\u001b[0m\u001b[0;34m\u001b[0m\u001b[0m\n\u001b[1;32m     11\u001b[0m                                    \u001b[0mdata_used\u001b[0m\u001b[0;34m.\u001b[0m\u001b[0mloc\u001b[0m\u001b[0;34m[\u001b[0m \u001b[0;34m~\u001b[0m\u001b[0mdata_used\u001b[0m\u001b[0;34m.\u001b[0m\u001b[0mSolvent_1_Short_Hand\u001b[0m\u001b[0;34m.\u001b[0m\u001b[0misin\u001b[0m\u001b[0;34m(\u001b[0m\u001b[0;34m[\u001b[0m\u001b[0;34m'MeCN'\u001b[0m\u001b[0;34m,\u001b[0m\u001b[0;34m\"THF\"\u001b[0m\u001b[0;34m]\u001b[0m\u001b[0;34m)\u001b[0m\u001b[0;34m.\u001b[0m\u001b[0mindex\u001b[0m\u001b[0;34m]\u001b[0m \u001b[0;34m&\u001b[0m\u001b[0;34m\u001b[0m\u001b[0;34m\u001b[0m\u001b[0m\n\u001b[0;32m---> 12\u001b[0;31m                                    \u001b[0mdata_used\u001b[0m\u001b[0;34m.\u001b[0m\u001b[0mloc\u001b[0m\u001b[0;34m[\u001b[0m \u001b[0;34m~\u001b[0m\u001b[0mdata_used\u001b[0m\u001b[0;34m.\u001b[0m\u001b[0mReactant_1_Name\u001b[0m\u001b[0;34m.\u001b[0m\u001b[0misin\u001b[0m\u001b[0;34m(\u001b[0m\u001b[0;34m[\u001b[0m\u001b[0;34m'6-Quinolineboronic acid pinacol ester'\u001b[0m\u001b[0;34m,\u001b[0m\u001b[0;34m\"Potassium quinoline-6-trifluoroborate\"\u001b[0m\u001b[0;34m,\u001b[0m\u001b[0;34m\"6-quinoline-boronic acid hydrochloride\"\u001b[0m\u001b[0;34m]\u001b[0m\u001b[0;34m)\u001b[0m\u001b[0;34m.\u001b[0m\u001b[0mindex\u001b[0m\u001b[0;34m]\u001b[0m \u001b[0;34m&\u001b[0m\u001b[0;34m\u001b[0m\u001b[0;34m\u001b[0m\u001b[0m\n\u001b[0m\u001b[1;32m     13\u001b[0m                                    \u001b[0mdata_used\u001b[0m\u001b[0;34m.\u001b[0m\u001b[0mloc\u001b[0m\u001b[0;34m[\u001b[0m \u001b[0;34m~\u001b[0m\u001b[0mdata_used\u001b[0m\u001b[0;34m.\u001b[0m\u001b[0mReactant_2_Name\u001b[0m\u001b[0;34m.\u001b[0m\u001b[0misin\u001b[0m\u001b[0;34m(\u001b[0m\u001b[0;34m[\u001b[0m\u001b[0;34m\"2d, Bromide\"\u001b[0m\u001b[0;34m]\u001b[0m\u001b[0;34m)\u001b[0m\u001b[0;34m.\u001b[0m\u001b[0mindex\u001b[0m\u001b[0;34m]\u001b[0m\u001b[0;34m\u001b[0m\u001b[0;34m\u001b[0m\u001b[0m\n\u001b[1;32m     14\u001b[0m                                   ]\n",
      "\u001b[0;31mTypeError\u001b[0m: bad operand type for unary ~: 'RangeIndex'"
     ]
    }
   ],
   "source": [
    "df1 = data_used.loc[data_used.Ligand_Short_Hand.isin(['P(tBu)3',\"P(Ph)3\",\"AmPhos\",\"P(Cy)3\",'P(o-Tol)3','CataCXium A']) &\n",
    "                                   data_used.Base_Short_Hand.isin(['NaOH',\"NaHCO3\",'CsF','K3PO4']) &\n",
    "                                   data_used.Solvent_1_Short_Hand.isin(['MeCN',\"THF\"]) &\n",
    "                                   data_used.Reactant_1_Name.isin(['6-Quinolineboronic acid pinacol ester',\"Potassium quinoline-6-trifluoroborate\",\"6-quinoline-boronic acid hydrochloride\"]) &\n",
    "                                   data_used.Reactant_2_Name.isin([\"2d, Bromide\"]) \n",
    "                                  ]\n",
    "                                   \n",
    "                                  \n",
    "df2 = data_used.loc[ ~data_used.Ligand_Short_Hand.isin(['P(tBu)3',\"P(Ph)3\",\"AmPhos\",\"P(Cy)3\",'P(o-Tol)3','CataCXium A'])] &\n",
    "                                   ~data_used.loc[ ~data_used.Base_Short_Hand.isin(['NaOH',\"NaHCO3\",'CsF','K3PO4'])] &\n",
    "                                   ~data_used.loc[ ~data_used.Solvent_1_Short_Hand.isin(['MeCN',\"THF\"])] &\n",
    "                                   ~data_used.loc[ ~data_used.Reactant_1_Name.isin(['6-Quinolineboronic acid pinacol ester',\"Potassium quinoline-6-trifluoroborate\",\"6-quinoline-boronic acid hydrochloride\"])] &\n",
    "                                   ~data_used.loc[ ~data_used.Reactant_2_Name.isin([\"2d, Bromide\"]).index]                                \n",
    "                                   \n",
    "\n",
    "df2.shape"
   ]
  },
  {
   "cell_type": "code",
   "execution_count": null,
   "metadata": {},
   "outputs": [],
   "source": [
    "df2 = data_used.loc[data_used.index.difference(df1.index)]"
   ]
  }
 ],
 "metadata": {
  "kernelspec": {
   "display_name": "Python 3",
   "language": "python",
   "name": "python3"
  },
  "language_info": {
   "codemirror_mode": {
    "name": "ipython",
    "version": 3
   },
   "file_extension": ".py",
   "mimetype": "text/x-python",
   "name": "python",
   "nbconvert_exporter": "python",
   "pygments_lexer": "ipython3",
   "version": "3.7.4"
  }
 },
 "nbformat": 4,
 "nbformat_minor": 4
}
