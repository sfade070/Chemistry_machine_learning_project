{
 "cells": [
  {
   "cell_type": "code",
   "execution_count": 1,
   "metadata": {},
   "outputs": [],
   "source": [
    "import numpy as np\n",
    "import pandas as pd\n",
    "import matplotlib.pyplot as plt\n",
    "import seaborn as sns\n",
    "import os\n",
    "import sys \n",
    "import time\n",
    "import random\n",
    "from tqdm import tqdm\n",
    "import time\n",
    "from numpy.linalg import inv\n",
    "import warnings\n",
    "warnings.filterwarnings('ignore')\n",
    "from sklearn.model_selection import KFold\n",
    "from sklearn.ensemble import RandomForestRegressor\n",
    "from sklearn.neural_network import MLPRegressor\n",
    "from sklearn.externals.joblib import dump\n",
    "from sklearn import model_selection \n",
    "from sklearn.model_selection import GridSearchCV, cross_val_score,StratifiedKFold, learning_curve\n",
    "from sklearn.model_selection import train_test_split\n",
    "from sklearn.utils import shuffle\n",
    "from sklearn.model_selection import validation_curve,ShuffleSplit\n",
    "from sklearn.preprocessing import scale\n",
    "from sklearn.ensemble import RandomForestRegressor,  RandomForestClassifier\n",
    "from sklearn.base import BaseEstimator, TransformerMixin, RegressorMixin, clone\n",
    "from sklearn.model_selection import KFold, cross_val_score, train_test_split\n",
    "from sklearn.metrics import mean_squared_error\n",
    "from scipy.stats import norm\n",
    "from sklearn.gaussian_process import GaussianProcessRegressor\n",
    "from sklearn.gaussian_process.kernels import ConstantKernel, Matern\n",
    "from sklearn.tree import DecisionTreeClassifier, DecisionTreeRegressor\n",
    "from sklearn.calibration import calibration_curve\n",
    "from sklearn.preprocessing import StandardScaler\n",
    "from sklearn.utils import shuffle\n",
    "from utils import *\n",
    "\n",
    "\n",
    "pd.set_option('display.max_columns', None)\n",
    "pd.set_option('display.max_rows', None)\n"
   ]
  },
  {
   "cell_type": "markdown",
   "metadata": {},
   "source": [
    "# Load data"
   ]
  },
  {
   "cell_type": "code",
   "execution_count": 2,
   "metadata": {},
   "outputs": [],
   "source": [
    "df = pd.read_excel('5760_simple_discriptors-SMILES.xlsx')\n",
    "data = df.drop([ 'Reaction_No', 'SMILES', 'Catalyst_1_Short_Hand','SMILES_R1','SMILES_R2','SMILES','SMILES_LI','SMILES_BASE','SMILES_SOLV'], axis=1 )\n",
    "data_used = data.dropna(axis=0 , how='any')\n",
    "\n",
    "# dropping missed values\n",
    "data_used = data_used.reset_index().drop('index', axis=1).copy()\n",
    "\n",
    "# Normalization of continuous variables \n",
    "data_used['Product_Yield_PCT_Area_UV'] = data_used['Product_Yield_PCT_Area_UV']/100\n",
    "\n",
    "xls = pd.ExcelFile('Descriptors for Computational Modelling.xlsx')\n",
    "df_Bases = pd.read_excel(xls, 'Base_Short_Hand')\n",
    "df_Solvents = pd.read_excel(xls, 'Solvent_1_Short_Hand')\n",
    "df_Ligands = pd.read_excel(xls, 'Ligand_Short_Hand')\n",
    "\n",
    "# one hot encoding\n",
    "data_ohe = data_cleaning(data_used)\n",
    "Y_ohe = data_ohe[\"Product_Yield_PCT_Area_UV\"]\n",
    "data_ohe = data_ohe.drop('Product_Yield_PCT_Area_UV', axis=1)\n",
    "X_ohe = pd.get_dummies(data_ohe)\n",
    "\n",
    "# discreptors\n",
    "df_descr = data_discreptors(data_used,xls,df_Ligands,df_Bases,df_Solvents)\n",
    "Y_just_descri = df_descr[\"Product_Yield_PCT_Area_UV\"]\n",
    "df = df_descr.drop(['Product_Yield_PCT_Area_UV',\"Ligand_Short_Hand\",\"Base_Short_Hand\",\"Solvent_1_Short_Hand\"], axis=1)\n",
    "X_just_descri = pd.get_dummies(df)\n",
    "df_descr = X_just_descri.copy()\n",
    "df_descr[\"Product_Yield_PCT_Area_UV\"] = Y_just_descri.copy()"
   ]
  },
  {
   "cell_type": "code",
   "execution_count": null,
   "metadata": {},
   "outputs": [],
   "source": []
  }
 ],
 "metadata": {
  "kernelspec": {
   "display_name": "Python 3",
   "language": "python",
   "name": "python3"
  },
  "language_info": {
   "codemirror_mode": {
    "name": "ipython",
    "version": 3
   },
   "file_extension": ".py",
   "mimetype": "text/x-python",
   "name": "python",
   "nbconvert_exporter": "python",
   "pygments_lexer": "ipython3",
   "version": "3.7.4"
  }
 },
 "nbformat": 4,
 "nbformat_minor": 4
}
